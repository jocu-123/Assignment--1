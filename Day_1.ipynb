{
  "nbformat": 4,
  "nbformat_minor": 0,
  "metadata": {
    "colab": {
      "name": "Copy of Day 1.ipynb",
      "provenance": [],
      "collapsed_sections": [],
      "authorship_tag": "ABX9TyNm+pMCFZqJcwPtEcgWkZMU",
      "include_colab_link": true
    },
    "kernelspec": {
      "name": "python3",
      "display_name": "Python 3"
    },
    "language_info": {
      "name": "python"
    }
  },
  "cells": [
    {
      "cell_type": "markdown",
      "metadata": {
        "id": "view-in-github",
        "colab_type": "text"
      },
      "source": [
        "<a href=\"https://colab.research.google.com/github/jocu-123/Assignment-Submission/blob/main/Day_1.ipynb\" target=\"_parent\"><img src=\"https://colab.research.google.com/assets/colab-badge.svg\" alt=\"Open In Colab\"/></a>"
      ]
    },
    {
      "cell_type": "code",
      "metadata": {
        "id": "tHnpfeozataE"
      },
      "source": [
        ""
      ],
      "execution_count": null,
      "outputs": []
    },
    {
      "cell_type": "code",
      "metadata": {
        "colab": {
          "base_uri": "https://localhost:8080/"
        },
        "id": "uHBHQ9wNvwHA",
        "outputId": "3904f855-f3f4-4835-887a-96b64b1ed588"
      },
      "source": [
        "x= input('Enter the values:')\n",
        "li = [int(i) for i in x.split()]\n",
        "print(li)\n",
        "li.sort()\n",
        "print(li)\n",
        "li.reverse()\n",
        "print(li)\n",
        "\n",
        "\n"
      ],
      "execution_count": null,
      "outputs": [
        {
          "output_type": "stream",
          "text": [
            "Enter the values:10 20 1 3 6 27 48 33 100 80 200 150\n",
            "[10, 20, 1, 3, 6, 27, 48, 33, 100, 80, 200, 150]\n",
            "[1, 3, 6, 10, 20, 27, 33, 48, 80, 100, 150, 200]\n",
            "[200, 150, 100, 80, 48, 33, 27, 20, 10, 6, 3, 1]\n"
          ],
          "name": "stdout"
        }
      ]
    }
  ]
}